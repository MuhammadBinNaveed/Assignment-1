{
 "cells": [
  {
   "cell_type": "code",
   "execution_count": 1,
   "metadata": {},
   "outputs": [
    {
     "name": "stdout",
     "output_type": "stream",
     "text": [
      "The shape is a sqaure.\n"
     ]
    }
   ],
   "source": [
    "Height = input(\"Enter the height:\" )\n",
    "Breadth = input(\"Enter the breadth: \")\n",
    "if Height == Breadth:\n",
    "    print(\"The shape is a sqaure.\")\n",
    "else:\n",
    "    print(\"The shape is a rectangle.\")"
   ]
  },
  {
   "cell_type": "code",
   "execution_count": 11,
   "metadata": {},
   "outputs": [
    {
     "name": "stdout",
     "output_type": "stream",
     "text": [
      "The sqaure has Perimeter: 60 and Area: 225\n"
     ]
    }
   ],
   "source": [
    "height = input(\"Enter the height:\" )\n",
    "breadth = input(\"Enter the breadth: \")\n",
    "\n",
    "if height == breadth:\n",
    "    shape = \"sqaure\"\n",
    "else:\n",
    "    shape = \"rectangle\"\n",
    "\n",
    "height = int(height)\n",
    "breadth = int(breadth)\n",
    "\n",
    "area = height * breadth\n",
    "\n",
    "perimeter = 2 * (height + breadth)\n",
    "\n",
    "perimeter = str(perimeter)\n",
    "area = str(area)\n",
    "\n",
    "print(\"The \" + shape + \" has Perimeter: \" + perimeter + \" and Area: \" + area)"
   ]
  },
  {
   "cell_type": "code",
   "execution_count": 26,
   "metadata": {},
   "outputs": [
    {
     "name": "stdout",
     "output_type": "stream",
     "text": [
      "['Usman', 'Saifullah']\n",
      "['Uzair', 'Ali', 'Samad']\n"
     ]
    }
   ],
   "source": [
    "faculty = [\"Uzair\", \"Ali\", \"Samad\", \"Usman\", \"Saifullah\"]\n",
    "Cofounders = []\n",
    "\n",
    "cofounders = faculty[3:6]\n",
    "del faculty[3:6]\n",
    "\n",
    "print(cofounders)\n",
    "print(faculty)"
   ]
  },
  {
   "cell_type": "code",
   "execution_count": 30,
   "metadata": {},
   "outputs": [
    {
     "name": "stdout",
     "output_type": "stream",
     "text": [
      "['Uzair', 'Umair', 'Samad', 'Usman', 'Saifullah']\n"
     ]
    }
   ],
   "source": [
    "faculty = [\"Uzair\", \"Ali\", \"Samad\", \"Usman\", \"Saifullah\"]\n",
    "faculty.insert(1, \"Umair\")\n",
    "del faculty[2]\n",
    "print(faculty)"
   ]
  }
 ],
 "metadata": {
  "kernelspec": {
   "display_name": "Python 3",
   "language": "python",
   "name": "python3"
  },
  "language_info": {
   "codemirror_mode": {
    "name": "ipython",
    "version": 3
   },
   "file_extension": ".py",
   "mimetype": "text/x-python",
   "name": "python",
   "nbconvert_exporter": "python",
   "pygments_lexer": "ipython3",
   "version": "3.12.0"
  }
 },
 "nbformat": 4,
 "nbformat_minor": 2
}
